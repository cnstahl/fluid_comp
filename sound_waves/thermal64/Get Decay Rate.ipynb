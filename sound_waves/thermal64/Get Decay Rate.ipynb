{
 "cells": [
  {
   "cell_type": "code",
   "execution_count": 1,
   "metadata": {
    "collapsed": true
   },
   "outputs": [],
   "source": [
    "import numpy as np\n",
    "%matplotlib inline\n",
    "import matplotlib.pyplot as plt"
   ]
  },
  {
   "cell_type": "code",
   "execution_count": 2,
   "metadata": {
    "collapsed": true
   },
   "outputs": [],
   "source": [
    "times = np.loadtxt('times')\n",
    "presss= np.loadtxt('presss')\n",
    "rhos  = np.loadtxt('rhos')\n",
    "vels  = np.loadtxt('vels')"
   ]
  },
  {
   "cell_type": "code",
   "execution_count": 3,
   "metadata": {
    "scrolled": true
   },
   "outputs": [
    {
     "data": {
      "image/png": "[encoded data removed]",
      "text/plain": [
       "<matplotlib.figure.Figure at 0x114fc26d8>"
      ]
     },
     "metadata": {},
     "output_type": "display_data"
    }
   ],
   "source": [
    "plt.plot(times, vels)\n",
    "plt.show()"
   ]
  },
  {
   "cell_type": "code",
   "execution_count": 5,
   "metadata": {},
   "outputs": [
    {
     "data": {
      "text/plain": [
       "array([ 0.       ,  0.0140625,  0.028125 ,  0.0421875,  0.0562499,\n",
       "        0.0703124,  0.0843749,  0.0984374,  0.1125   ,  0.126562 ,\n",
       "        0.140625 ,  0.154687 ,  0.16875  ,  0.182812 ,  0.196875 ,\n",
       "        0.210937 ,  0.225    ,  0.239062 ,  0.253125 ,  0.267187 ,\n",
       "        0.28125  ,  0.295312 ,  0.309375 ,  0.323437 ,  0.3375   ,\n",
       "        0.351562 ,  0.365625 ,  0.379687 ,  0.39375  ,  0.407812 ,\n",
       "        0.421875 ,  0.435937 ,  0.45     ,  0.464062 ,  0.478125 ,\n",
       "        0.492187 ,  0.50625  ,  0.520312 ,  0.534374 ,  0.548437 ,\n",
       "        0.562499 ,  0.576562 ,  0.590624 ,  0.604687 ,  0.618749 ,\n",
       "        0.632812 ,  0.646874 ,  0.660937 ,  0.674999 ,  0.689062 ,\n",
       "        0.703124 ,  0.717187 ,  0.731249 ,  0.745312 ,  0.759374 ,\n",
       "        0.773437 ,  0.787499 ,  0.801562 ,  0.815624 ,  0.829687 ,\n",
       "        0.843749 ,  0.857812 ,  0.871874 ,  0.885937 ,  0.899999 ,\n",
       "        0.914062 ,  0.928124 ,  0.942187 ,  0.956249 ,  0.970312 ,\n",
       "        0.984374 ,  0.998437 ,  1.0125   ,  1.02656  ,  1.04062  ,\n",
       "        1.05469  ,  1.06875  ,  1.08281  ,  1.09687  ,  1.11094  ,\n",
       "        1.125    ,  1.13906  ,  1.15312  ,  1.16719  ,  1.18125  ,\n",
       "        1.19531  ,  1.20937  ,  1.22344  ,  1.2375   ,  1.25156  ,\n",
       "        1.26562  ,  1.27969  ,  1.29375  ,  1.30781  ,  1.32187  ,\n",
       "        1.33594  ,  1.35     ,  1.36406  ,  1.37812  ,  1.39219  ,\n",
       "        1.40625  ,  1.42031  ,  1.43437  ,  1.44844  ,  1.4625   ,\n",
       "        1.47656  ,  1.49062  ,  1.50469  ,  1.51875  ,  1.53281  ,\n",
       "        1.54687  ,  1.56094  ,  1.575    ,  1.58906  ,  1.60312  ,\n",
       "        1.61719  ,  1.63125  ,  1.64531  ,  1.65937  ,  1.67344  ,\n",
       "        1.6875   ,  1.70156  ,  1.71562  ,  1.72969  ,  1.74375  ,\n",
       "        1.75781  ,  1.77187  ,  1.78594  ,  1.8      ,  1.81406  ,\n",
       "        1.82812  ,  1.84219  ,  1.85625  ,  1.87031  ,  1.88437  ,\n",
       "        1.89844  ,  1.9125   ,  1.92656  ,  1.94062  ,  1.95469  ,\n",
       "        1.96875  ,  1.98281  ,  1.99687  ,  2.01094  ,  2.025    ,\n",
       "        2.03906  ,  2.05312  ,  2.06719  ,  2.08125  ,  2.09531  ,\n",
       "        2.10937  ,  2.12344  ,  2.1375   ,  2.15156  ,  2.16562  ,\n",
       "        2.17969  ,  2.19375  ,  2.20781  ,  2.22187  ,  2.23594  ,\n",
       "        2.25     ,  2.26406  ,  2.27812  ,  2.29219  ,  2.30625  ,\n",
       "        2.32031  ,  2.33437  ,  2.34844  ,  2.3625   ,  2.37656  ,\n",
       "        2.39062  ,  2.40469  ,  2.41875  ,  2.43281  ,  2.44687  ,\n",
       "        2.46094  ,  2.475    ,  2.48906  ,  2.50312  ,  2.51719  ,\n",
       "        2.53125  ,  2.54531  ,  2.55937  ,  2.57344  ,  2.5875   ,\n",
       "        2.60156  ,  2.61562  ,  2.62969  ,  2.64375  ,  2.65781  ,\n",
       "        2.67187  ,  2.68594  ,  2.7      ,  2.71406  ,  2.72812  ,\n",
       "        2.74218  ,  2.75625  ,  2.77031  ,  2.78437  ,  2.79843  ,\n",
       "        2.8125   ,  2.82656  ,  2.84062  ,  2.85468  ,  2.86875  ,\n",
       "        2.88281  ,  2.89687  ,  2.91093  ,  2.925    ,  2.93906  ,\n",
       "        2.95312  ,  2.96718  ,  2.98125  ,  2.99531  ,  3.00937  ,\n",
       "        3.02343  ,  3.0375   ,  3.05156  ,  3.06562  ,  3.07968  ,\n",
       "        3.09375  ,  3.10781  ,  3.12187  ,  3.13593  ,  3.15     ,\n",
       "        3.16406  ,  3.17812  ,  3.19218  ,  3.20625  ,  3.22031  ,\n",
       "        3.23437  ,  3.24843  ,  3.2625   ,  3.27656  ,  3.29062  ,\n",
       "        3.30468  ,  3.31875  ,  3.33281  ,  3.34687  ,  3.36093  ,\n",
       "        3.375    ,  3.38906  ,  3.40312  ,  3.41718  ,  3.43125  ,\n",
       "        3.44531  ,  3.45937  ,  3.47343  ,  3.4875   ,  3.50156  ,\n",
       "        3.51562  ,  3.52968  ,  3.54375  ,  3.55781  ,  3.57187  ,\n",
       "        3.58593  ,  3.6      ,  3.61406  ,  3.62812  ,  3.64218  ,\n",
       "        3.65625  ,  3.67031  ,  3.68437  ,  3.69843  ,  3.7125   ,\n",
       "        3.72656  ,  3.74062  ,  3.75468  ,  3.76875  ,  3.78281  ,\n",
       "        3.79687  ,  3.81093  ,  3.825    ,  3.83906  ,  3.85312  ,\n",
       "        3.86718  ,  3.88125  ,  3.89531  ,  3.90937  ,  3.92343  ,\n",
       "        3.9375   ,  3.95156  ,  3.96562  ,  3.97968  ,  3.99375  ,\n",
       "        4.00781  ,  4.02187  ,  4.03593  ,  4.05     ,  4.06406  ,\n",
       "        4.07812  ,  4.09218  ,  4.10625  ,  4.12031  ,  4.13437  ,\n",
       "        4.14843  ,  4.1625   ,  4.17656  ,  4.19062  ,  4.20468  ,\n",
       "        4.21875  ,  4.23281  ,  4.24687  ,  4.26093  ,  4.275    ,\n",
       "        4.28906  ,  4.30312  ,  4.31718  ,  4.33125  ,  4.34531  ,\n",
       "        4.35937  ,  4.37343  ,  4.3875   ,  4.40156  ,  4.41562  ,\n",
       "        4.42968  ,  4.44375  ,  4.45781  ,  4.47187  ,  4.48593  ,\n",
       "        4.5      ,  4.51406  ,  4.52812  ,  4.54218  ,  4.55625  ,\n",
       "        4.57031  ,  4.58437  ,  4.59843  ,  4.6125   ,  4.62656  ,\n",
       "        4.64062  ,  4.65468  ,  4.66875  ,  4.68281  ,  4.69687  ,\n",
       "        4.71093  ,  4.725    ,  4.73906  ,  4.75312  ,  4.76718  ,\n",
       "        4.78125  ,  4.79531  ,  4.80937  ,  4.82343  ,  4.8375   ,\n",
       "        4.85156  ,  4.86562  ,  4.87968  ,  4.89375  ,  4.90781  ,\n",
       "        4.92187  ,  4.93593  ,  4.95     ,  4.96406  ,  4.97812  ,\n",
       "        4.99218  ,  5.       ,  5.       ])"
      ]
     },
     "execution_count": 5,
     "metadata": {},
     "output_type": "execute_result"
    }
   ],
   "source": [
    "times"
   ]
  },
  {
   "cell_type": "code",
   "execution_count": null,
   "metadata": {
    "collapsed": true
   },
   "outputs": [],
   "source": []
  }
 ],
 "metadata": {
  "kernelspec": {
   "display_name": "Python 3",
   "language": "python",
   "name": "python3"
  },
  "language_info": {
   "codemirror_mode": {
    "name": "ipython",
    "version": 3
   },
   "file_extension": ".py",
   "mimetype": "text/x-python",
   "name": "python",
   "nbconvert_exporter": "python",
   "pygments_lexer": "ipython3",
   "version": "3.5.3"
  }
 },
 "nbformat": 4,
 "nbformat_minor": 1
}
