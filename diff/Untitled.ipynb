{
 "cells": [
  {
   "cell_type": "code",
   "execution_count": 11,
   "metadata": {
    "collapsed": true
   },
   "outputs": [],
   "source": [
    "%matplotlib inline\n",
    "import numpy as np\n",
    "import matplotlib.pyplot as plt\n",
    "import pathlib\n",
    "import os\n",
    "from scipy.optimize import curve_fit"
   ]
  },
  {
   "cell_type": "code",
   "execution_count": 12,
   "metadata": {
    "collapsed": true
   },
   "outputs": [],
   "source": [
    "def analytic(x,t,chi):\n",
    "    return 1/np.sqrt(t+1)* np.exp(-x**2/(4*(t+1) * 2/5 * chi))"
   ]
  },
  {
   "cell_type": "code",
   "execution_count": 52,
   "metadata": {},
   "outputs": [
    {
     "name": "stderr",
     "output_type": "stream",
     "text": [
      "/Users/cstahl/anaconda3/lib/python3.5/site-packages/matplotlib/axes/_axes.py:519: UserWarning: No labelled objects found. Use label='...' kwarg on individual plots.\n",
      "  warnings.warn(\"No labelled objects found. \"\n"
     ]
    },
    {
     "data": {
      "text/plain": [
       "<matplotlib.figure.Figure at 0x11123f4e0>"
      ]
     },
     "metadata": {},
     "output_type": "display_data"
    }
   ],
   "source": [
    "times = []\n",
    "chis = []\n",
    "t_mult = 2/5\n",
    "\n",
    "for i in range(0,200,1):\n",
    "#     fname = \"th_diff.block0.out1.{:05d}.tab\".format(i)\n",
    "#     data = np.loadtxt(fname).T\n",
    "#     plt.plot(data[1], data[3], label = 'numeric')\n",
    "#     (t, chi), pcov = curve_fit(analytic, data[1], data[3])\n",
    "    plt.plot(data[1], analytic(data[1], i/10, 2), )\n",
    "    plt.ylim([0,1])\n",
    "    plt.legend()\n",
    "    plt.title(\"                       Gaussian Decay, t = {:.2f}\".format(i/10), loc='left')\n",
    "#     times.append(t)\n",
    "#     chis.append(chi)\n",
    "    \n",
    "    \n",
    "    plt.savefig(\"vid/vid.{:05d}.png\".format(i), dpi=150)\n",
    "    plt.clf()"
   ]
  },
  {
   "cell_type": "code",
   "execution_count": 14,
   "metadata": {
    "collapsed": true
   },
   "outputs": [],
   "source": [
    "with open('times', 'r') as f:\n",
    "    read_data = f.read()\n",
    "read_data = read_data.split('\\n')\n",
    "for idx, line in enumerate(read_data):\n",
    "    read_data[idx] = line[24:36]"
   ]
  },
  {
   "cell_type": "code",
   "execution_count": null,
   "metadata": {
    "collapsed": true
   },
   "outputs": [],
   "source": [
    "times"
   ]
  },
  {
   "cell_type": "code",
   "execution_count": 21,
   "metadata": {},
   "outputs": [
    {
     "data": {
      "text/plain": [
       "<matplotlib.text.Text at 0x110e5d2e8>"
      ]
     },
     "execution_count": 21,
     "metadata": {},
     "output_type": "execute_result"
    },
    {
     "data": {
      "image/png": "[encoded data removed]",
      "text/plain": [
       "<matplotlib.figure.Figure at 0x110162940>"
      ]
     },
     "metadata": {},
     "output_type": "display_data"
    }
   ],
   "source": [
    "plt.plot(data[1], analytic(data[1], 0, 2), label = 't=0')\n",
    "plt.plot(data[1], analytic(data[1], 40, 2), label = 't=1')\n",
    "plt.legend()\n",
    "plt.title(\"Gaussian Decay\")\n",
    "plt.xlabel(\"x\")\n",
    "plt.ylabel(\"Pressure\")\n",
    "# plt.savefig(\"GaussianDecay\")"
   ]
  },
  {
   "cell_type": "code",
   "execution_count": null,
   "metadata": {
    "collapsed": true
   },
   "outputs": [],
   "source": []
  }
 ],
 "metadata": {
  "kernelspec": {
   "display_name": "Python 3",
   "language": "python",
   "name": "python3"
  },
  "language_info": {
   "codemirror_mode": {
    "name": "ipython",
    "version": 3
   },
   "file_extension": ".py",
   "mimetype": "text/x-python",
   "name": "python",
   "nbconvert_exporter": "python",
   "pygments_lexer": "ipython3",
   "version": "3.5.3"
  }
 },
 "nbformat": 4,
 "nbformat_minor": 1
}
