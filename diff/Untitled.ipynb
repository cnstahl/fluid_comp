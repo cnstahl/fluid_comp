{
 "cells": [
  {
   "cell_type": "code",
   "execution_count": 11,
   "metadata": {
    "collapsed": true
   },
   "outputs": [],
   "source": [
    "%matplotlib inline\n",
    "import numpy as np\n",
    "import matplotlib.pyplot as plt\n",
    "import pathlib\n",
    "import os\n",
    "from scipy.optimize import curve_fit"
   ]
  },
  {
   "cell_type": "code",
   "execution_count": 12,
   "metadata": {
    "collapsed": true
   },
   "outputs": [],
   "source": [
    "def analytic(x,t,chi):\n",
    "    return 1/np.sqrt(t+1)* np.exp(-x**2/(4*(t+1) * 2/5 * chi))"
   ]
  },
  {
   "cell_type": "code",
   "execution_count": 15,
   "metadata": {},
   "outputs": [
    {
     "data": {
      "text/plain": [
       "<matplotlib.figure.Figure at 0x1110b4dd8>"
      ]
     },
     "metadata": {},
     "output_type": "display_data"
    }
   ],
   "source": [
    "times = []\n",
    "chis = []\n",
    "t_mult = 2/5\n",
    "\n",
    "for i in range(0,201,10):\n",
    "    fname = \"th_diff.block0.out1.{:05d}.tab\".format(i)\n",
    "    data = np.loadtxt(fname).T\n",
    "    plt.plot(data[1], data[3], label = 'numeric')\n",
    "    (t, chi), pcov = curve_fit(analytic, data[1], data[3])\n",
    "    plt.plot(data[1], analytic(data[1], float(read_data[i]), 2), label = 'analytic')\n",
    "    plt.legend()\n",
    "    plt.title(\"t = {:3f}, t = {:3f}\".format(t, float(read_data[i])))\n",
    "    times.append(t)\n",
    "    chis.append(chi)\n",
    "    \n",
    "    \n",
    "    plt.savefig(\"vid.{:05d}.png\".format(i))\n",
    "    plt.clf()"
   ]
  },
  {
   "cell_type": "code",
   "execution_count": 14,
   "metadata": {
    "collapsed": true
   },
   "outputs": [],
   "source": [
    "with open('times', 'r') as f:\n",
    "    read_data = f.read()\n",
    "read_data = read_data.split('\\n')\n",
    "for idx, line in enumerate(read_data):\n",
    "    read_data[idx] = line[24:36]"
   ]
  },
  {
   "cell_type": "code",
   "execution_count": null,
   "metadata": {},
   "outputs": [],
   "source": [
    "times"
   ]
  },
  {
   "cell_type": "code",
   "execution_count": 19,
   "metadata": {},
   "outputs": [
    {
     "data": {
      "image/png": "[encoded data removed]",
      "text/plain": [
       "<matplotlib.figure.Figure at 0x110e9e710>"
      ]
     },
     "metadata": {},
     "output_type": "display_data"
    }
   ],
   "source": [
    "plt.plot(data[1], analytic(data[1], 0, 2), label = 't=0')\n",
    "plt.plot(data[1], analytic(data[1], 2, 2), label = 't=1')\n",
    "plt.legend()\n",
    "plt.title(\"Gaussian Decay\")\n",
    "plt.xlabel(\"x\")\n",
    "plt.ylabel(\"Pressure\")\n",
    "plt.savefig(\"GaussianDecay\")"
   ]
  },
  {
   "cell_type": "code",
   "execution_count": null,
   "metadata": {
    "collapsed": true
   },
   "outputs": [],
   "source": []
  }
 ],
 "metadata": {
  "kernelspec": {
   "display_name": "Python 3",
   "language": "python",
   "name": "python3"
  },
  "language_info": {
   "codemirror_mode": {
    "name": "ipython",
    "version": 3
   },
   "file_extension": ".py",
   "mimetype": "text/x-python",
   "name": "python",
   "nbconvert_exporter": "python",
   "pygments_lexer": "ipython3",
   "version": "3.5.3"
  }
 },
 "nbformat": 4,
 "nbformat_minor": 1
}
