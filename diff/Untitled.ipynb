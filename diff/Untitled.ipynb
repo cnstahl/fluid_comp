{
 "cells": [
  {
   "cell_type": "code",
   "execution_count": 56,
   "metadata": {
    "collapsed": true
   },
   "outputs": [],
   "source": [
    "%matplotlib inline\n",
    "import numpy as np\n",
    "import matplotlib.pyplot as plt\n",
    "import pathlib\n",
    "import os\n",
    "from scipy.optimize import curve_fit"
   ]
  },
  {
   "cell_type": "code",
   "execution_count": 82,
   "metadata": {
    "collapsed": true
   },
   "outputs": [],
   "source": [
    "def analytic(x,t,chi):\n",
    "    return 1/np.sqrt(t+1)* np.exp(-x**2/(4*(t+1) * 2/5 * chi))"
   ]
  },
  {
   "cell_type": "code",
   "execution_count": 88,
   "metadata": {},
   "outputs": [
    {
     "data": {
      "text/plain": [
       "<matplotlib.figure.Figure at 0x118be0c18>"
      ]
     },
     "metadata": {},
     "output_type": "display_data"
    }
   ],
   "source": [
    "times = []\n",
    "chis = []\n",
    "t_mult = 2/5\n",
    "\n",
    "for i in range(0,201,10):\n",
    "    fname = \"th_diff.block0.out1.{:05d}.tab\".format(i)\n",
    "    data = np.loadtxt(fname).T\n",
    "    plt.plot(data[1], data[3], label = 'numeric')\n",
    "    (t, chi), pcov = curve_fit(analytic, data[1], data[3])\n",
    "    plt.plot(data[1], analytic(data[1], float(read_data[i]), 2), label = 'analytic')\n",
    "    plt.legend()\n",
    "    plt.title(\"t = {:3f}, t = {:3f}\".format(t, float(read_data[i])))\n",
    "    times.append(t)\n",
    "    chis.append(chi)\n",
    "    \n",
    "    \n",
    "    plt.savefig(\"vid.{:05d}.png\".format(i))\n",
    "    plt.clf()"
   ]
  },
  {
   "cell_type": "code",
   "execution_count": 47,
   "metadata": {},
   "outputs": [],
   "source": [
    "with open('times', 'r') as f:\n",
    "    read_data = f.read()\n",
    "read_data = read_data.split('\\n')\n",
    "for idx, line in enumerate(read_data):\n",
    "    read_data[idx] = line[24:36]"
   ]
  },
  {
   "cell_type": "code",
   "execution_count": 74,
   "metadata": {},
   "outputs": [
    {
     "data": {
      "text/plain": [
       "[-8.9071769534188608e-09,\n",
       " 0.50008923892813595,\n",
       " 1.0000303649780367,\n",
       " 1.5013136058780805,\n",
       " 2.0059206904828675,\n",
       " 2.5178712761938749,\n",
       " 3.0406931553579755,\n",
       " 3.5752374768256701,\n",
       " 4.1215135033195214,\n",
       " 4.6763114418139589,\n",
       " 5.2360883011503594,\n",
       " 5.7965732462896487,\n",
       " 6.3522811952134335,\n",
       " 6.8992719522406736,\n",
       " 7.4327440214863838,\n",
       " 7.9494971349700458,\n",
       " 8.4469562345982023,\n",
       " 8.9223414699842252,\n",
       " 9.3746416843468285,\n",
       " 9.8023365142415209,\n",
       " 10.205184422648465]"
      ]
     },
     "execution_count": 74,
     "metadata": {},
     "output_type": "execute_result"
    }
   ],
   "source": [
    "times"
   ]
  },
  {
   "cell_type": "code",
   "execution_count": null,
   "metadata": {
    "collapsed": true
   },
   "outputs": [],
   "source": []
  },
  {
   "cell_type": "code",
   "execution_count": null,
   "metadata": {
    "collapsed": true
   },
   "outputs": [],
   "source": []
  }
 ],
 "metadata": {
  "kernelspec": {
   "display_name": "Python 3",
   "language": "python",
   "name": "python3"
  },
  "language_info": {
   "codemirror_mode": {
    "name": "ipython",
    "version": 3
   },
   "file_extension": ".py",
   "mimetype": "text/x-python",
   "name": "python",
   "nbconvert_exporter": "python",
   "pygments_lexer": "ipython3",
   "version": "3.5.3"
  }
 },
 "nbformat": 4,
 "nbformat_minor": 1
}
